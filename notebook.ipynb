{
 "cells": [
  {
   "cell_type": "code",
   "execution_count": 30,
   "metadata": {},
   "outputs": [
    {
     "data": {
      "text/plain": [
       "<module 'data_for_testing' from '/Users/mark/projects/journal-papers-index/data_for_testing.py'>"
      ]
     },
     "execution_count": 30,
     "metadata": {},
     "output_type": "execute_result"
    }
   ],
   "source": [
    "import pickle\n",
    "import importlib\n",
    "\n",
    "from lxml import etree\n",
    "\n",
    "import make_papers_index \n",
    "import data_for_testing\n",
    "\n",
    "importlib.reload(make_papers_index)\n",
    "importlib.reload(data_for_testing)\n"
   ]
  },
  {
   "cell_type": "code",
   "execution_count": 12,
   "metadata": {},
   "outputs": [
    {
     "data": {
      "text/plain": [
       "(datetime.datetime(2016, 5, 18, 0, 0), datetime.datetime(2017, 4, 27, 0, 0))"
      ]
     },
     "execution_count": 12,
     "metadata": {},
     "output_type": "execute_result"
    }
   ],
   "source": [
    "make_papers_index.get_dates_from_session('2016-17')"
   ]
  },
  {
   "cell_type": "code",
   "execution_count": 17,
   "metadata": {},
   "outputs": [],
   "source": [
    "root_ele = etree.parse(\"filtering_test_before_2.xml\").getroot()\n",
    "\n",
    "papers = make_papers_index.filter_papers(root_ele)"
   ]
  },
  {
   "cell_type": "code",
   "execution_count": 18,
   "metadata": {},
   "outputs": [],
   "source": [
    "expected_papers = etree.Element('ExpectedPapers')\n",
    "expected_papers.extend(papers)\n",
    "\n",
    "\n",
    "et = etree.ElementTree(expected_papers)\n",
    "\n",
    "et.write('expected_after_filter.xml', method='c14n')"
   ]
  },
  {
   "cell_type": "code",
   "execution_count": 4,
   "metadata": {},
   "outputs": [],
   "source": [
    "# pickle the papers obj to disk\n",
    "with open('filtered_test_papers.pickle', 'wb') as f:\n",
    "    pickle.dump(papers, f)"
   ]
  },
  {
   "cell_type": "code",
   "execution_count": 5,
   "metadata": {},
   "outputs": [
    {
     "data": {
      "text/plain": [
       "True"
      ]
     },
     "execution_count": 5,
     "metadata": {},
     "output_type": "execute_result"
    }
   ],
   "source": [
    "with open('filtered_test_papers.pickle', 'rb') as f:\n",
    "    paper2 = pickle.load(f)\n",
    "\n",
    "paper2 == papers"
   ]
  },
  {
   "attachments": {},
   "cell_type": "markdown",
   "metadata": {},
   "source": [
    "# Reformatting recurring categories of papers and combining entries\n",
    "1. The extraction process currently works well at combining entries for Orders and Regulations.  There are some other types of documents that could be usefully combined but which aren’t picked up at the moment. For all of these types of papers it would be useful if even single occurrences were reformatted (e.g. so Civil Procedure (Amendment) Rules, 3 Feb 2017 would appear even on its own as Rules: 2017: Civil Procedure (Amendment), 3 Feb 2017).\n",
    "\n",
    " \n",
    " a. Entries for Rules.\n",
    "\n",
    "For example, this list under Senior Courts of England and Wales:\n",
    " \n",
    " - Civil Procedure (Amendment No. 2) Rules, 7 Jul 2016.\n",
    " - Civil Procedure (Amendment No. 3) Rules, 21 Jul 2016.\n",
    " - Civil Procedure (Amendment) Rules, 3 Feb 2017.\n",
    " - Criminal Procedure (Amendment No. 2) Rules, 10 Mar 2017.\n",
    " - Criminal Procedure (Amendment No. 2) Rules, 7 Jul 2016.\n",
    " - Criminal Procedure (Amendment) Rules, 16 Feb 2017.\n",
    " \n",
    "\n",
    "Would ideally be combined into this:\n",
    " \n",
    " - Rules: 2016: Civil Procedure (Amendment No. 2), 7 Jul 2016; Civil Procedure (Amendment No. 3), 21 Jul 2016; Criminal Procedure (Amendment No. 2), 7 Jul 2016.\n",
    " \n",
    " - Rules: 2017: Civil Procedure (Amendment), 3 Feb 2017; Criminal Procedure (Amendment), 16 Feb 2017; Criminal Procedure (Amendment No. 2), 10 Mar 2017."
   ]
  },
  {
   "cell_type": "code",
   "execution_count": null,
   "metadata": {},
   "outputs": [],
   "source": [
    "# generate test data\n",
    "\n",
    "root_ele = etree.parse(\"as_downloaded_papers_2016-17.xml\").getroot()\n",
    "\n",
    "# for sort under section `SENIOR COURTS OF ENGLAND AND WALES` see above.\n",
    "# results = root_ele.xpath('/*/*/*/Paper[Title[starts-with(.,\"Civil Procedure (Amendment\")]|Title[starts-with(.,\"Criminal Procedure (Amendment\")]]')\n",
    "results = root_ele.xpath('/*/*/*/Paper[SideTitle[contains(.,\"Senior Courts of England and Wales\")]][SubjectHeading[contains(.,\"Rules\")]]')\n",
    "\n",
    "# convert the data to papers structure\n",
    "\n",
    "filtered_papers = make_papers_index.filter_papers(results)\n",
    "p_structure = make_papers_index.populate_papers_data(filtered_papers)\n",
    "\n",
    "# for element in filtered_papers:\n",
    "#     print(f'{element.findtext(\"Id\")}   {element.findtext(\"Title\")}')\n",
    "\n",
    "sorted_senior_courts_structure = make_papers_index.sort_papers(p_structure)\n",
    "\n",
    "xml = make_papers_index.convert_to_xml(sorted_senior_courts_structure)\n",
    "\n",
    "etree.dump(xml)\n",
    " \n",
    " "
   ]
  },
  {
   "cell_type": "code",
   "execution_count": 31,
   "metadata": {},
   "outputs": [
    {
     "name": "stdout",
     "output_type": "stream",
     "text": [
      "<PapersIndex><SideTitle>Corporation Tax</SideTitle>\n",
      "<Paper>Draft Order: 2016: Draft Double Taxation Relief (Guernsey), 19 May 2016.</Paper>\n",
      "<Paper>Order: 2016: Civil Enforcement of Parking Contraventions Designation, 19 May 2016.</Paper>\n",
      "<Paper>Order of Council: 2016: Health and Care Professions Council (Miscellaneous Amendments) Rules, 19 May 2016.</Paper>\n",
      "<Paper>Draft Regulations: 2016: Draft Statutory Auditors and Third Country Auditors, 19 May 2016.</Paper>\n",
      "<Paper>Regulations: 2016: Control of Electromagnetic Fields at Work, 19 May 2016.</Paper>\n",
      "<Paper>Regulations (Northern Ireland): 2016: Social Security (Disability Living Allowance and Personal Independence Payment) (Amendment), 19 May 2016.</Paper>\n",
      "<Paper>Rules: 2016: Justices of the Peace, 19 May 2016.</Paper>\n",
      "<Paper>Accounts, 2016: the Crown's Nominee 2015-16, 19 May 2016.</Paper>\n",
      "<Paper>Reports and Accounts, 2016: the Construction Industry Training Board 2015, 19 May 2016.</Paper>\n",
      "<Paper>Report on the British Wool Marketing Board Agricultural Marketing Scheme 2015-16, 19 May 2016.</Paper>\n",
      "</PapersIndex>\n"
     ]
    }
   ],
   "source": [
    "structure_in_wrong_order = make_papers_index.populate_papers_data(data_for_testing.papers_in_wrong_order)\n",
    "sorted_papers = make_papers_index.sort_papers(structure_in_wrong_order)\n",
    "\n",
    "xml = make_papers_index.convert_to_xml(sorted_papers)\n",
    "etree.dump(xml)"
   ]
  },
  {
   "cell_type": "code",
   "execution_count": null,
   "metadata": {},
   "outputs": [],
   "source": []
  }
 ],
 "metadata": {
  "kernelspec": {
   "display_name": "Python 3",
   "language": "python",
   "name": "python3"
  },
  "language_info": {
   "codemirror_mode": {
    "name": "ipython",
    "version": 3
   },
   "file_extension": ".py",
   "mimetype": "text/x-python",
   "name": "python",
   "nbconvert_exporter": "python",
   "pygments_lexer": "ipython3",
   "version": "3.10.5 (v3.10.5:f377153967, Jun  6 2022, 12:36:10) [Clang 13.0.0 (clang-1300.0.29.30)]"
  },
  "orig_nbformat": 4,
  "vscode": {
   "interpreter": {
    "hash": "aee8b7b246df8f9039afb4144a1f6fd8d2ca17a180786b69acc140d282b71a49"
   }
  }
 },
 "nbformat": 4,
 "nbformat_minor": 2
}
