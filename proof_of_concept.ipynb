{
 "cells": [
  {
   "cell_type": "code",
   "execution_count": 1,
   "metadata": {},
   "outputs": [],
   "source": [
    "from copy import deepcopy\n",
    "import datetime\n",
    "import re\n",
    "import ssl\n",
    "import urllib.request\n",
    "import json\n",
    "\n",
    "from lxml import etree\n"
   ]
  },
  {
   "cell_type": "code",
   "execution_count": 2,
   "metadata": {},
   "outputs": [],
   "source": [
    "NS_MAP = {'xsi': 'http://www.w3.org/2001/XMLSchema-instance',\n",
    "          'aid': 'http://ns.adobe.com/AdobeInDesign/4.0/',\n",
    "          'aid5': 'http://ns.adobe.com/AdobeInDesign/5.0/'}\n",
    "\n",
    "# ignore the ssl certificate\n",
    "context = ssl._create_unverified_context()"
   ]
  },
  {
   "cell_type": "code",
   "execution_count": 3,
   "metadata": {},
   "outputs": [],
   "source": [
    "# get the start and end date of a sesion via the calendar API\n",
    "\n",
    "def get_dates_from_session(session_code):\n",
    "    \"\"\"Return a tupple of start and end dates (as strings) of a session of parliament\"\"\"\n",
    "    \n",
    "    # Get the dates from API\n",
    "    url = 'http://service.calendar.parliament.uk/calendar/sessions/list.json'\n",
    "    response = urllib.request.urlopen(url, context=context)\n",
    "    \n",
    "    session_json = json.load(response)\n",
    "    \n",
    "    for session_obj in session_json:\n",
    "        if session_obj['CommonsDescription'] == session_code:\n",
    "            start_date = session_obj['StartDate']\n",
    "            end_date = session_obj['EndDate']\n",
    "            return(start_date[:10], end_date[:10])\n",
    "    "
   ]
  },
  {
   "cell_type": "code",
   "execution_count": 4,
   "metadata": {},
   "outputs": [],
   "source": [
    "# get the xml from the papers laid API and write to a file\n",
    "\n",
    "# session code e.g. '2015-16'\n",
    "# session_code = '2015-16'\n",
    "session_code = '2016-17'\n",
    "\n",
    "# dates of session of parliament\n",
    "session_dates = get_dates_from_session(session_code)\n",
    "\n",
    "url = ('http://services.paperslaid.parliament.uk/papers/list/daily.xml'\n",
    "       f'?fromDate={session_dates[0]}&toDate={session_dates[1]}&house=commons')\n",
    "\n",
    "response = urllib.request.urlopen(url, context=context)\n",
    "\n",
    "as_downloaded_file_name = f'as_downloaded_papers_{session_code}.xml'\n",
    "with open(as_downloaded_file_name, 'wb') as f:\n",
    "    f.write(response.read())\n"
   ]
  },
  {
   "cell_type": "code",
   "execution_count": 5,
   "metadata": {},
   "outputs": [],
   "source": [
    "# papers_xml_tree = etree.parse('daily.xml')\n",
    "papers_xml_tree = etree.parse(as_downloaded_file_name)\n",
    "papers_xml = papers_xml_tree.getroot()"
   ]
  },
  {
   "cell_type": "code",
   "execution_count": null,
   "metadata": {},
   "outputs": [],
   "source": []
  },
  {
   "cell_type": "code",
   "execution_count": 6,
   "metadata": {},
   "outputs": [],
   "source": [
    "# use a set to contain all the paper Ids. Sets are as in maths -- unique members\n",
    "paper_ids = set()\n",
    "papers_of_intrest = []"
   ]
  },
  {
   "cell_type": "code",
   "execution_count": 7,
   "metadata": {},
   "outputs": [],
   "source": [
    "papers_xpath_result = papers_xml.xpath(\n",
    "        # get all papers where the proceeding is not 'None'\n",
    "        '/ArrayOfDailyPapers/DailyPapers/PublishedPapers/Paper'\n",
    "        #  remove withdrawn papers there [sometimes DateWithdrawn does not agree with Withdrawn]\n",
    "        '[Withdrawn[text()=\"false\"]][DateWithdrawn[@xsi:nil=\"true\"]]',\n",
    "        namespaces=NS_MAP\n",
    "    )"
   ]
  },
  {
   "cell_type": "code",
   "execution_count": null,
   "metadata": {},
   "outputs": [],
   "source": []
  },
  {
   "cell_type": "code",
   "execution_count": 8,
   "metadata": {},
   "outputs": [
    {
     "data": {
      "text/plain": [
       "1797"
      ]
     },
     "execution_count": 8,
     "metadata": {},
     "output_type": "execute_result"
    }
   ],
   "source": [
    "len(papers_xpath_result)"
   ]
  },
  {
   "cell_type": "code",
   "execution_count": 9,
   "metadata": {},
   "outputs": [],
   "source": [
    "# need to reverse the list of papers as we are more interested in the most recent papers\n",
    "for paper in reversed(papers_xpath_result):\n",
    "\n",
    "    # get the papers Id, ** I am assuming that these are unique to each paper **\n",
    "    paper_id = paper.findtext('Id')\n",
    "    \n",
    "    if paper_id not in paper_ids:\n",
    "        paper_ids.add(paper_id)\n",
    "        papers_of_intrest.append(paper)\n",
    "        \n"
   ]
  },
  {
   "cell_type": "code",
   "execution_count": 10,
   "metadata": {},
   "outputs": [
    {
     "data": {
      "text/plain": [
       "1797"
      ]
     },
     "execution_count": 10,
     "metadata": {},
     "output_type": "execute_result"
    }
   ],
   "source": [
    "len(papers_of_intrest)\n",
    "\n",
    "# use external script"
   ]
  }
 ],
 "metadata": {
  "kernelspec": {
   "display_name": "Python 3.9.1 64-bit",
   "language": "python",
   "name": "python3"
  },
  "language_info": {
   "codemirror_mode": {
    "name": "ipython",
    "version": 3
   },
   "file_extension": ".py",
   "mimetype": "text/x-python",
   "name": "python",
   "nbconvert_exporter": "python",
   "pygments_lexer": "ipython3",
   "version": "3.9.1"
  },
  "vscode": {
   "interpreter": {
    "hash": "bdff86f568f594bb31e56b5b3f9841fe843e52187f1effe2a3e72534ff335735"
   }
  }
 },
 "nbformat": 4,
 "nbformat_minor": 2
}
